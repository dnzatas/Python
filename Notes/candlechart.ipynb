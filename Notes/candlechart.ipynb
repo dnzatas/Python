{
 "cells": [
  {
   "cell_type": "code",
   "execution_count": 33,
   "metadata": {},
   "outputs": [],
   "source": [
    "import datetime as dt\n",
    "import yfinance as yf\n",
    "import matplotlib.pyplot as plt\n",
    "import matplotlib.dates as mdates\n",
    "from pandas_datareader import data as pdr\n",
    "from mplfinance.original_flavor import candlestick_ohlc"
   ]
  },
  {
   "cell_type": "code",
   "execution_count": 44,
   "metadata": {},
   "outputs": [
    {
     "name": "stdout",
     "output_type": "stream",
     "text": [
      "[*********************100%***********************]  1 of 1 completed\n",
      "                   Open         High          Low        Close    Adj Close  \\\n",
      "Date                                                                          \n",
      "2021-01-04  1912.199951  1945.099976  1912.199951  1944.699951  1944.699951   \n",
      "2021-01-05  1941.699951  1952.699951  1941.300049  1952.699951  1952.699951   \n",
      "2021-01-06  1952.000000  1959.900024  1901.500000  1906.900024  1906.900024   \n",
      "2021-01-07  1922.599976  1926.699951  1912.000000  1912.300049  1912.300049   \n",
      "2021-01-08  1908.000000  1908.000000  1834.099976  1834.099976  1834.099976   \n",
      "...                 ...          ...          ...          ...          ...   \n",
      "2023-02-09  1875.300049  1884.599976  1859.800049  1866.199951  1866.199951   \n",
      "2023-02-10  1861.599976  1863.500000  1852.400024  1862.800049  1862.800049   \n",
      "2023-02-13  1859.000000  1861.000000  1850.000000  1851.900024  1851.900024   \n",
      "2023-02-14  1854.099976  1862.000000  1846.199951  1854.000000  1854.000000   \n",
      "2023-02-15  1865.099976  1870.900024  1839.300049  1846.599976  1846.599976   \n",
      "\n",
      "            Volume  \n",
      "Date                \n",
      "2021-01-04     154  \n",
      "2021-01-05     113  \n",
      "2021-01-06     331  \n",
      "2021-01-07     122  \n",
      "2021-01-08      60  \n",
      "...            ...  \n",
      "2023-02-09     223  \n",
      "2023-02-10      27  \n",
      "2023-02-13     569  \n",
      "2023-02-14     569  \n",
      "2023-02-15  165570  \n",
      "\n",
      "[536 rows x 6 columns]\n",
      "columns:  Index(['Open', 'High', 'Low', 'Close', 'Adj Close', 'Volume'], dtype='object')\n"
     ]
    }
   ],
   "source": [
    "# Define Time Frame\n",
    "\n",
    "start = dt.datetime(2021,1,1)\n",
    "end = dt.datetime.now()\n",
    "\n",
    "ticker = 'GC=F'\n",
    "data = pdr.DataReader(ticker, start, end)\n",
    "\n",
    "print(data)\n",
    "print('columns: ', data.columns)"
   ]
  },
  {
   "cell_type": "code",
   "execution_count": 45,
   "metadata": {},
   "outputs": [
    {
     "data": {
      "text/html": [
       "<div>\n",
       "<style scoped>\n",
       "    .dataframe tbody tr th:only-of-type {\n",
       "        vertical-align: middle;\n",
       "    }\n",
       "\n",
       "    .dataframe tbody tr th {\n",
       "        vertical-align: top;\n",
       "    }\n",
       "\n",
       "    .dataframe thead th {\n",
       "        text-align: right;\n",
       "    }\n",
       "</style>\n",
       "<table border=\"1\" class=\"dataframe\">\n",
       "  <thead>\n",
       "    <tr style=\"text-align: right;\">\n",
       "      <th></th>\n",
       "      <th>Open</th>\n",
       "      <th>High</th>\n",
       "      <th>Low</th>\n",
       "      <th>Close</th>\n",
       "    </tr>\n",
       "    <tr>\n",
       "      <th>Date</th>\n",
       "      <th></th>\n",
       "      <th></th>\n",
       "      <th></th>\n",
       "      <th></th>\n",
       "    </tr>\n",
       "  </thead>\n",
       "  <tbody>\n",
       "    <tr>\n",
       "      <th>2021-01-04</th>\n",
       "      <td>1912.199951</td>\n",
       "      <td>1945.099976</td>\n",
       "      <td>1912.199951</td>\n",
       "      <td>1944.699951</td>\n",
       "    </tr>\n",
       "    <tr>\n",
       "      <th>2021-01-05</th>\n",
       "      <td>1941.699951</td>\n",
       "      <td>1952.699951</td>\n",
       "      <td>1941.300049</td>\n",
       "      <td>1952.699951</td>\n",
       "    </tr>\n",
       "    <tr>\n",
       "      <th>2021-01-06</th>\n",
       "      <td>1952.000000</td>\n",
       "      <td>1959.900024</td>\n",
       "      <td>1901.500000</td>\n",
       "      <td>1906.900024</td>\n",
       "    </tr>\n",
       "    <tr>\n",
       "      <th>2021-01-07</th>\n",
       "      <td>1922.599976</td>\n",
       "      <td>1926.699951</td>\n",
       "      <td>1912.000000</td>\n",
       "      <td>1912.300049</td>\n",
       "    </tr>\n",
       "    <tr>\n",
       "      <th>2021-01-08</th>\n",
       "      <td>1908.000000</td>\n",
       "      <td>1908.000000</td>\n",
       "      <td>1834.099976</td>\n",
       "      <td>1834.099976</td>\n",
       "    </tr>\n",
       "  </tbody>\n",
       "</table>\n",
       "</div>"
      ],
      "text/plain": [
       "                   Open         High          Low        Close\n",
       "Date                                                          \n",
       "2021-01-04  1912.199951  1945.099976  1912.199951  1944.699951\n",
       "2021-01-05  1941.699951  1952.699951  1941.300049  1952.699951\n",
       "2021-01-06  1952.000000  1959.900024  1901.500000  1906.900024\n",
       "2021-01-07  1922.599976  1926.699951  1912.000000  1912.300049\n",
       "2021-01-08  1908.000000  1908.000000  1834.099976  1834.099976"
      ]
     },
     "execution_count": 45,
     "metadata": {},
     "output_type": "execute_result"
    }
   ],
   "source": [
    "data = data[['Open', 'High', 'Low', 'Close']]\n",
    "data.head()"
   ]
  },
  {
   "cell_type": "code",
   "execution_count": 46,
   "metadata": {},
   "outputs": [
    {
     "data": {
      "text/html": [
       "<div>\n",
       "<style scoped>\n",
       "    .dataframe tbody tr th:only-of-type {\n",
       "        vertical-align: middle;\n",
       "    }\n",
       "\n",
       "    .dataframe tbody tr th {\n",
       "        vertical-align: top;\n",
       "    }\n",
       "\n",
       "    .dataframe thead th {\n",
       "        text-align: right;\n",
       "    }\n",
       "</style>\n",
       "<table border=\"1\" class=\"dataframe\">\n",
       "  <thead>\n",
       "    <tr style=\"text-align: right;\">\n",
       "      <th></th>\n",
       "      <th>Date</th>\n",
       "      <th>Open</th>\n",
       "      <th>High</th>\n",
       "      <th>Low</th>\n",
       "      <th>Close</th>\n",
       "    </tr>\n",
       "  </thead>\n",
       "  <tbody>\n",
       "    <tr>\n",
       "      <th>0</th>\n",
       "      <td>2021-01-04</td>\n",
       "      <td>1912.199951</td>\n",
       "      <td>1945.099976</td>\n",
       "      <td>1912.199951</td>\n",
       "      <td>1944.699951</td>\n",
       "    </tr>\n",
       "    <tr>\n",
       "      <th>1</th>\n",
       "      <td>2021-01-05</td>\n",
       "      <td>1941.699951</td>\n",
       "      <td>1952.699951</td>\n",
       "      <td>1941.300049</td>\n",
       "      <td>1952.699951</td>\n",
       "    </tr>\n",
       "    <tr>\n",
       "      <th>2</th>\n",
       "      <td>2021-01-06</td>\n",
       "      <td>1952.000000</td>\n",
       "      <td>1959.900024</td>\n",
       "      <td>1901.500000</td>\n",
       "      <td>1906.900024</td>\n",
       "    </tr>\n",
       "    <tr>\n",
       "      <th>3</th>\n",
       "      <td>2021-01-07</td>\n",
       "      <td>1922.599976</td>\n",
       "      <td>1926.699951</td>\n",
       "      <td>1912.000000</td>\n",
       "      <td>1912.300049</td>\n",
       "    </tr>\n",
       "    <tr>\n",
       "      <th>4</th>\n",
       "      <td>2021-01-08</td>\n",
       "      <td>1908.000000</td>\n",
       "      <td>1908.000000</td>\n",
       "      <td>1834.099976</td>\n",
       "      <td>1834.099976</td>\n",
       "    </tr>\n",
       "  </tbody>\n",
       "</table>\n",
       "</div>"
      ],
      "text/plain": [
       "        Date         Open         High          Low        Close\n",
       "0 2021-01-04  1912.199951  1945.099976  1912.199951  1944.699951\n",
       "1 2021-01-05  1941.699951  1952.699951  1941.300049  1952.699951\n",
       "2 2021-01-06  1952.000000  1959.900024  1901.500000  1906.900024\n",
       "3 2021-01-07  1922.599976  1926.699951  1912.000000  1912.300049\n",
       "4 2021-01-08  1908.000000  1908.000000  1834.099976  1834.099976"
      ]
     },
     "execution_count": 46,
     "metadata": {},
     "output_type": "execute_result"
    }
   ],
   "source": [
    "data.reset_index(inplace=True)\n",
    "data.head()"
   ]
  },
  {
   "cell_type": "code",
   "execution_count": 47,
   "metadata": {},
   "outputs": [
    {
     "name": "stderr",
     "output_type": "stream",
     "text": [
      "/var/folders/dx/vd193n3j0p3f_lz26qv9vxxw0000gn/T/ipykernel_9651/2954052745.py:1: SettingWithCopyWarning: \n",
      "A value is trying to be set on a copy of a slice from a DataFrame.\n",
      "Try using .loc[row_indexer,col_indexer] = value instead\n",
      "\n",
      "See the caveats in the documentation: https://pandas.pydata.org/pandas-docs/stable/user_guide/indexing.html#returning-a-view-versus-a-copy\n",
      "  data['Date'] = data['Date'].map(mdates.date2num)\n"
     ]
    },
    {
     "data": {
      "text/html": [
       "<div>\n",
       "<style scoped>\n",
       "    .dataframe tbody tr th:only-of-type {\n",
       "        vertical-align: middle;\n",
       "    }\n",
       "\n",
       "    .dataframe tbody tr th {\n",
       "        vertical-align: top;\n",
       "    }\n",
       "\n",
       "    .dataframe thead th {\n",
       "        text-align: right;\n",
       "    }\n",
       "</style>\n",
       "<table border=\"1\" class=\"dataframe\">\n",
       "  <thead>\n",
       "    <tr style=\"text-align: right;\">\n",
       "      <th></th>\n",
       "      <th>Date</th>\n",
       "      <th>Open</th>\n",
       "      <th>High</th>\n",
       "      <th>Low</th>\n",
       "      <th>Close</th>\n",
       "    </tr>\n",
       "  </thead>\n",
       "  <tbody>\n",
       "    <tr>\n",
       "      <th>0</th>\n",
       "      <td>18631.0</td>\n",
       "      <td>1912.199951</td>\n",
       "      <td>1945.099976</td>\n",
       "      <td>1912.199951</td>\n",
       "      <td>1944.699951</td>\n",
       "    </tr>\n",
       "    <tr>\n",
       "      <th>1</th>\n",
       "      <td>18632.0</td>\n",
       "      <td>1941.699951</td>\n",
       "      <td>1952.699951</td>\n",
       "      <td>1941.300049</td>\n",
       "      <td>1952.699951</td>\n",
       "    </tr>\n",
       "    <tr>\n",
       "      <th>2</th>\n",
       "      <td>18633.0</td>\n",
       "      <td>1952.000000</td>\n",
       "      <td>1959.900024</td>\n",
       "      <td>1901.500000</td>\n",
       "      <td>1906.900024</td>\n",
       "    </tr>\n",
       "    <tr>\n",
       "      <th>3</th>\n",
       "      <td>18634.0</td>\n",
       "      <td>1922.599976</td>\n",
       "      <td>1926.699951</td>\n",
       "      <td>1912.000000</td>\n",
       "      <td>1912.300049</td>\n",
       "    </tr>\n",
       "    <tr>\n",
       "      <th>4</th>\n",
       "      <td>18635.0</td>\n",
       "      <td>1908.000000</td>\n",
       "      <td>1908.000000</td>\n",
       "      <td>1834.099976</td>\n",
       "      <td>1834.099976</td>\n",
       "    </tr>\n",
       "  </tbody>\n",
       "</table>\n",
       "</div>"
      ],
      "text/plain": [
       "      Date         Open         High          Low        Close\n",
       "0  18631.0  1912.199951  1945.099976  1912.199951  1944.699951\n",
       "1  18632.0  1941.699951  1952.699951  1941.300049  1952.699951\n",
       "2  18633.0  1952.000000  1959.900024  1901.500000  1906.900024\n",
       "3  18634.0  1922.599976  1926.699951  1912.000000  1912.300049\n",
       "4  18635.0  1908.000000  1908.000000  1834.099976  1834.099976"
      ]
     },
     "execution_count": 47,
     "metadata": {},
     "output_type": "execute_result"
    }
   ],
   "source": [
    "data['Date'] = data['Date'].map(mdates.date2num)\n",
    "data.head()"
   ]
  },
  {
   "cell_type": "code",
   "execution_count": 48,
   "metadata": {},
   "outputs": [
    {
     "data": {
      "image/png": "[encoded data removed]",
      "text/plain": [
       "<Figure size 640x480 with 1 Axes>"
      ]
     },
     "metadata": {},
     "output_type": "display_data"
    }
   ],
   "source": [
    "# Visualization\n",
    "\n",
    "ax = plt.subplot()\n",
    "ax.grid(True)\n",
    "ax.set_axisbelow(True)\n",
    "ax.set_title('{} Share Price'.format(ticker), color='white')\n",
    "ax.set_facecolor('black')\n",
    "ax.figure.set_facecolor('#121212')\n",
    "ax.tick_params(axis='x', colors='white')\n",
    "ax.tick_params(axis='y', colors='white')\n",
    "\n",
    "ax.xaxis_date()\n",
    "\n",
    "candlestick_ohlc(ax, data.values, width=0.5, colorup='#00ff00')\n",
    "plt.show()"
   ]
  }
 ],
 "metadata": {
  "kernelspec": {
   "display_name": "Python 3",
   "language": "python",
   "name": "python3"
  },
  "language_info": {
   "codemirror_mode": {
    "name": "ipython",
    "version": 3
   },
   "file_extension": ".py",
   "mimetype": "text/x-python",
   "name": "python",
   "nbconvert_exporter": "python",
   "pygments_lexer": "ipython3",
   "version": "3.11.1"
  },
  "orig_nbformat": 4,
  "vscode": {
   "interpreter": {
    "hash": "aee8b7b246df8f9039afb4144a1f6fd8d2ca17a180786b69acc140d282b71a49"
   }
  }
 },
 "nbformat": 4,
 "nbformat_minor": 2
}
