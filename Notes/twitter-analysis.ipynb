{
 "cells": [
  {
   "cell_type": "code",
   "execution_count": 1,
   "metadata": {},
   "outputs": [],
   "source": [
    "import tweepy as tw\n",
    "from datetime import datetime\n",
    "from pytz import timezone\n",
    "import json"
   ]
  },
  {
   "cell_type": "code",
   "execution_count": 2,
   "metadata": {},
   "outputs": [],
   "source": [
    "API_Key = \"\"\n",
    "API_Key_Secret = \"\"\n",
    "Bearer_Token = \"\"\n",
    "Access_Token = \"\"\n",
    "Access_Token_Secret = \"\"\n",
    "Client_ID = \"\"\n",
    "Client_Secret = \"\""
   ]
  },
  {
   "cell_type": "code",
   "execution_count": 3,
   "metadata": {},
   "outputs": [],
   "source": [
    "auth = tw.OAuthHandler(API_Key, API_Key_Secret)\n",
    "auth.set_access_token(Access_Token, Access_Token_Secret)\n",
    "\n",
    "api = tw.API(auth)"
   ]
  },
  {
   "cell_type": "code",
   "execution_count": 5,
   "metadata": {},
   "outputs": [
    {
     "name": "stdout",
     "output_type": "stream",
     "text": [
      "My id is: 1388948976607629312 my name is:  coingirl\n",
      "My followers count:  3\n",
      "The user coingirl was created on 02/05/21, 20:10:28\n"
     ]
    }
   ],
   "source": [
    "# My Info\n",
    "\n",
    "screen_name = \"coingirl13\"\n",
    "user = api.get_user(screen_name=screen_name)\n",
    "MY_ID = user.id_str\n",
    "MY_NAME = user.name\n",
    "my_followers = user.followers_count\n",
    "\n",
    "print(\"My id is: \" + MY_ID + \" my name is: \", MY_NAME)\n",
    "print(\"My followers count: \", my_followers)\n",
    "print(f'The user {MY_NAME} was created on {(user.created_at).strftime(\"%d/%m/%y, %H:%M:%S\")}')"
   ]
  },
  {
   "cell_type": "code",
   "execution_count": 6,
   "metadata": {},
   "outputs": [],
   "source": [
    "TR_WOEID = 23424969\n",
    "WORLD_WOE_ID = 1\n",
    "US_WOE_ID = 23424977\n",
    "\n",
    "TR_WOEIDS = {\n",
    "  \"Adana\": 2343678,\n",
    "  \"Ankara\": 2343732,\n",
    "  \"Antalya\": 2343733,\n",
    "  \"Bursa\": 2343843,\n",
    "  \"Diyarbakır\": 2343932,\n",
    "  \"Eskişehir\": 2343980,\n",
    "  \"Gaziantep\": 2343999,\n",
    "  \"Istanbul\": 2344116,\n",
    "  \"Izmir\": 2344117,\n",
    "  \"Kayseri\": 2344174,\n",
    "  \"Konya\": 2344210,\n",
    "  \"Mersin\": 2323778\n",
    "}"
   ]
  },
  {
   "cell_type": "code",
   "execution_count": 7,
   "metadata": {},
   "outputs": [
    {
     "name": "stdout",
     "output_type": "stream",
     "text": [
      "typeof response:  <class 'list'>\n",
      "length of response:  1\n",
      "typeof trends element:  <class 'dict'>\n",
      "keys of response:  dict_keys(['trends', 'as_of', 'created_at', 'locations'])\n"
     ]
    },
    {
     "data": {
      "text/plain": [
       "[{'trends': [{'name': '#DeplasmanımaDokunma',\n",
       "    'url': 'http://twitter.com/search?q=%23Deplasman%C4%B1maDokunma',\n",
       "    'promoted_content': None,\n",
       "    'query': '%23Deplasman%C4%B1maDokunma',\n",
       "    'tweet_volume': 35512},\n",
       "   {'name': '#EYTBugünBitiyor',\n",
       "    'url': 'http://twitter.com/search?q=%23EYTBug%C3%BCnBitiyor',\n",
       "    'promoted_content': None,\n",
       "    'query': '%23EYTBug%C3%BCnBitiyor',\n",
       "    'tweet_volume': 34567},\n",
       "   {'name': '#28Şubat',\n",
       "    'url': 'http://twitter.com/search?q=%2328%C5%9Eubat',\n",
       "    'promoted_content': None,\n",
       "    'query': '%2328%C5%9Eubat',\n",
       "    'tweet_volume': 84135},\n",
       "   {'name': '#DefolGeberesice',\n",
       "    'url': 'http://twitter.com/search?q=%23DefolGeberesice',\n",
       "    'promoted_content': None,\n",
       "    'query': '%23DefolGeberesice',\n",
       "    'tweet_volume': None},\n",
       "   {'name': 'Mansur Yavaş',\n",
       "    'url': 'http://twitter.com/search?q=%22Mansur+Yava%C5%9F%22',\n",
       "    'promoted_content': None,\n",
       "    'query': '%22Mansur+Yava%C5%9F%22',\n",
       "    'tweet_volume': 94453},\n",
       "   {'name': 'Karagümrük',\n",
       "    'url': 'http://twitter.com/search?q=Karag%C3%BCmr%C3%BCk',\n",
       "    'promoted_content': None,\n",
       "    'query': 'Karag%C3%BCmr%C3%BCk',\n",
       "    'tweet_volume': 18622},\n",
       "   {'name': 'Sabih Kanadoğlu',\n",
       "    'url': 'http://twitter.com/search?q=%22Sabih+Kanado%C4%9Flu%22',\n",
       "    'promoted_content': None,\n",
       "    'query': '%22Sabih+Kanado%C4%9Flu%22',\n",
       "    'tweet_volume': None},\n",
       "   {'name': '#Universiteicinmeclis',\n",
       "    'url': 'http://twitter.com/search?q=%23Universiteicinmeclis',\n",
       "    'promoted_content': None,\n",
       "    'query': '%23Universiteicinmeclis',\n",
       "    'tweet_volume': 20825},\n",
       "   {'name': 'Ateşi',\n",
       "    'url': 'http://twitter.com/search?q=Ate%C5%9Fi',\n",
       "    'promoted_content': None,\n",
       "    'query': 'Ate%C5%9Fi',\n",
       "    'tweet_volume': None},\n",
       "   {'name': \"Bugün Fenerbahçe'ye\",\n",
       "    'url': 'http://twitter.com/search?q=%22Bug%C3%BCn+Fenerbah%C3%A7e%27ye%22',\n",
       "    'promoted_content': None,\n",
       "    'query': '%22Bug%C3%BCn+Fenerbah%C3%A7e%27ye%22',\n",
       "    'tweet_volume': None},\n",
       "   {'name': \"Bugün Fenerbahçe'ye\",\n",
       "    'url': 'http://twitter.com/search?q=%22Bug%C3%BCn+Fenerbah%C3%A7e%27ye%22',\n",
       "    'promoted_content': None,\n",
       "    'query': '%22Bug%C3%BCn+Fenerbah%C3%A7e%27ye%22',\n",
       "    'tweet_volume': None},\n",
       "   {'name': 'Beraberiz Güçlüyüz',\n",
       "    'url': 'http://twitter.com/search?q=%22Beraberiz+G%C3%BC%C3%A7l%C3%BCy%C3%BCz%22',\n",
       "    'promoted_content': None,\n",
       "    'query': '%22Beraberiz+G%C3%BC%C3%A7l%C3%BCy%C3%BCz%22',\n",
       "    'tweet_volume': 15106},\n",
       "   {'name': 'Hudut',\n",
       "    'url': 'http://twitter.com/search?q=Hudut',\n",
       "    'promoted_content': None,\n",
       "    'query': 'Hudut',\n",
       "    'tweet_volume': None},\n",
       "   {'name': 'Yusuf Kerim',\n",
       "    'url': 'http://twitter.com/search?q=%22Yusuf+Kerim%22',\n",
       "    'promoted_content': None,\n",
       "    'query': '%22Yusuf+Kerim%22',\n",
       "    'tweet_volume': 53461},\n",
       "   {'name': \"Kahramanmaraş'ın Elbistan\",\n",
       "    'url': 'http://twitter.com/search?q=%22Kahramanmara%C5%9F%27%C4%B1n+Elbistan%22',\n",
       "    'promoted_content': None,\n",
       "    'query': '%22Kahramanmara%C5%9F%27%C4%B1n+Elbistan%22',\n",
       "    'tweet_volume': None},\n",
       "   {'name': 'Vural Savaş',\n",
       "    'url': 'http://twitter.com/search?q=%22Vural+Sava%C5%9F%22',\n",
       "    'promoted_content': None,\n",
       "    'query': '%22Vural+Sava%C5%9F%22',\n",
       "    'tweet_volume': None},\n",
       "   {'name': 'Kağıthane Devlet Hastanesi',\n",
       "    'url': 'http://twitter.com/search?q=%22Ka%C4%9F%C4%B1thane+Devlet+Hastanesi%22',\n",
       "    'promoted_content': None,\n",
       "    'query': '%22Ka%C4%9F%C4%B1thane+Devlet+Hastanesi%22',\n",
       "    'tweet_volume': None},\n",
       "   {'name': 'Piercing',\n",
       "    'url': 'http://twitter.com/search?q=Piercing',\n",
       "    'promoted_content': None,\n",
       "    'query': 'Piercing',\n",
       "    'tweet_volume': 19044},\n",
       "   {'name': 'Burç',\n",
       "    'url': 'http://twitter.com/search?q=Bur%C3%A7',\n",
       "    'promoted_content': None,\n",
       "    'query': 'Bur%C3%A7',\n",
       "    'tweet_volume': None},\n",
       "   {'name': 'Talisca',\n",
       "    'url': 'http://twitter.com/search?q=Talisca',\n",
       "    'promoted_content': None,\n",
       "    'query': 'Talisca',\n",
       "    'tweet_volume': None},\n",
       "   {'name': 'Altılı Masa',\n",
       "    'url': 'http://twitter.com/search?q=%22Alt%C4%B1l%C4%B1+Masa%22',\n",
       "    'promoted_content': None,\n",
       "    'query': '%22Alt%C4%B1l%C4%B1+Masa%22',\n",
       "    'tweet_volume': 23320},\n",
       "   {'name': 'Uğur',\n",
       "    'url': 'http://twitter.com/search?q=U%C4%9Fur',\n",
       "    'promoted_content': None,\n",
       "    'query': 'U%C4%9Fur',\n",
       "    'tweet_volume': 12546},\n",
       "   {'name': 'Dünkü',\n",
       "    'url': 'http://twitter.com/search?q=D%C3%BCnk%C3%BC',\n",
       "    'promoted_content': None,\n",
       "    'query': 'D%C3%BCnk%C3%BC',\n",
       "    'tweet_volume': None},\n",
       "   {'name': 'Barbunya',\n",
       "    'url': 'http://twitter.com/search?q=Barbunya',\n",
       "    'promoted_content': None,\n",
       "    'query': 'Barbunya',\n",
       "    'tweet_volume': None},\n",
       "   {'name': 'Aidat',\n",
       "    'url': 'http://twitter.com/search?q=Aidat',\n",
       "    'promoted_content': None,\n",
       "    'query': 'Aidat',\n",
       "    'tweet_volume': None},\n",
       "   {'name': '2022 KPSS',\n",
       "    'url': 'http://twitter.com/search?q=%222022+KPSS%22',\n",
       "    'promoted_content': None,\n",
       "    'query': '%222022+KPSS%22',\n",
       "    'tweet_volume': None},\n",
       "   {'name': 'Kızılay Başkanı',\n",
       "    'url': 'http://twitter.com/search?q=%22K%C4%B1z%C4%B1lay+Ba%C5%9Fkan%C4%B1%22',\n",
       "    'promoted_content': None,\n",
       "    'query': '%22K%C4%B1z%C4%B1lay+Ba%C5%9Fkan%C4%B1%22',\n",
       "    'tweet_volume': 103381},\n",
       "   {'name': 'Galatasaraylı',\n",
       "    'url': 'http://twitter.com/search?q=Galatasarayl%C4%B1',\n",
       "    'promoted_content': None,\n",
       "    'query': 'Galatasarayl%C4%B1',\n",
       "    'tweet_volume': None},\n",
       "   {'name': 'Zalimler',\n",
       "    'url': 'http://twitter.com/search?q=Zalimler',\n",
       "    'promoted_content': None,\n",
       "    'query': 'Zalimler',\n",
       "    'tweet_volume': None},\n",
       "   {'name': 'Hulusi Akar',\n",
       "    'url': 'http://twitter.com/search?q=%22Hulusi+Akar%22',\n",
       "    'promoted_content': None,\n",
       "    'query': '%22Hulusi+Akar%22',\n",
       "    'tweet_volume': None},\n",
       "   {'name': 'Yukarı',\n",
       "    'url': 'http://twitter.com/search?q=Yukar%C4%B1',\n",
       "    'promoted_content': None,\n",
       "    'query': 'Yukar%C4%B1',\n",
       "    'tweet_volume': 13495},\n",
       "   {'name': 'Unutmadık',\n",
       "    'url': 'http://twitter.com/search?q=Unutmad%C4%B1k',\n",
       "    'promoted_content': None,\n",
       "    'query': 'Unutmad%C4%B1k',\n",
       "    'tweet_volume': 27360},\n",
       "   {'name': 'Aday',\n",
       "    'url': 'http://twitter.com/search?q=Aday',\n",
       "    'promoted_content': None,\n",
       "    'query': 'Aday',\n",
       "    'tweet_volume': 59776},\n",
       "   {'name': 'Görevden',\n",
       "    'url': 'http://twitter.com/search?q=G%C3%B6revden',\n",
       "    'promoted_content': None,\n",
       "    'query': 'G%C3%B6revden',\n",
       "    'tweet_volume': 14286},\n",
       "   {'name': 'Maça',\n",
       "    'url': 'http://twitter.com/search?q=Ma%C3%A7a',\n",
       "    'promoted_content': None,\n",
       "    'query': 'Ma%C3%A7a',\n",
       "    'tweet_volume': 20166},\n",
       "   {'name': 'Üyelik',\n",
       "    'url': 'http://twitter.com/search?q=%C3%9Cyelik',\n",
       "    'promoted_content': None,\n",
       "    'query': '%C3%9Cyelik',\n",
       "    'tweet_volume': 22492},\n",
       "   {'name': 'Tuğba Ekinci',\n",
       "    'url': 'http://twitter.com/search?q=%22Tu%C4%9Fba+Ekinci%22',\n",
       "    'promoted_content': None,\n",
       "    'query': '%22Tu%C4%9Fba+Ekinci%22',\n",
       "    'tweet_volume': None},\n",
       "   {'name': 'Çocuklara',\n",
       "    'url': 'http://twitter.com/search?q=%C3%87ocuklara',\n",
       "    'promoted_content': None,\n",
       "    'query': '%C3%87ocuklara',\n",
       "    'tweet_volume': 24704},\n",
       "   {'name': 'Zorro',\n",
       "    'url': 'http://twitter.com/search?q=Zorro',\n",
       "    'promoted_content': None,\n",
       "    'query': 'Zorro',\n",
       "    'tweet_volume': None},\n",
       "   {'name': 'TikTok',\n",
       "    'url': 'http://twitter.com/search?q=TikTok',\n",
       "    'promoted_content': None,\n",
       "    'query': 'TikTok',\n",
       "    'tweet_volume': 602926},\n",
       "   {'name': 'Başarı',\n",
       "    'url': 'http://twitter.com/search?q=Ba%C5%9Far%C4%B1',\n",
       "    'promoted_content': None,\n",
       "    'query': 'Ba%C5%9Far%C4%B1',\n",
       "    'tweet_volume': 18524},\n",
       "   {'name': 'Mekanın',\n",
       "    'url': 'http://twitter.com/search?q=Mekan%C4%B1n',\n",
       "    'promoted_content': None,\n",
       "    'query': 'Mekan%C4%B1n',\n",
       "    'tweet_volume': None},\n",
       "   {'name': 'Kulüpler Birliği',\n",
       "    'url': 'http://twitter.com/search?q=%22Kul%C3%BCpler+Birli%C4%9Fi%22',\n",
       "    'promoted_content': None,\n",
       "    'query': '%22Kul%C3%BCpler+Birli%C4%9Fi%22',\n",
       "    'tweet_volume': 16296},\n",
       "   {'name': 'Cumhurbaşkanımız Sn',\n",
       "    'url': 'http://twitter.com/search?q=%22Cumhurba%C5%9Fkan%C4%B1m%C4%B1z+Sn%22',\n",
       "    'promoted_content': None,\n",
       "    'query': '%22Cumhurba%C5%9Fkan%C4%B1m%C4%B1z+Sn%22',\n",
       "    'tweet_volume': None},\n",
       "   {'name': 'Yakışır',\n",
       "    'url': 'http://twitter.com/search?q=Yak%C4%B1%C5%9F%C4%B1r',\n",
       "    'promoted_content': None,\n",
       "    'query': 'Yak%C4%B1%C5%9F%C4%B1r',\n",
       "    'tweet_volume': None},\n",
       "   {'name': \"TİP'e\",\n",
       "    'url': 'http://twitter.com/search?q=T%C4%B0P%27e',\n",
       "    'promoted_content': None,\n",
       "    'query': 'T%C4%B0P%27e',\n",
       "    'tweet_volume': None},\n",
       "   {'name': 'Korkunun',\n",
       "    'url': 'http://twitter.com/search?q=Korkunun',\n",
       "    'promoted_content': None,\n",
       "    'query': 'Korkunun',\n",
       "    'tweet_volume': None},\n",
       "   {'name': 'jungkook',\n",
       "    'url': 'http://twitter.com/search?q=jungkook',\n",
       "    'promoted_content': None,\n",
       "    'query': 'jungkook',\n",
       "    'tweet_volume': 807980},\n",
       "   {'name': 'Muhsin Yazıcıoğlu',\n",
       "    'url': 'http://twitter.com/search?q=%22Muhsin+Yaz%C4%B1c%C4%B1o%C4%9Flu%22',\n",
       "    'promoted_content': None,\n",
       "    'query': '%22Muhsin+Yaz%C4%B1c%C4%B1o%C4%9Flu%22',\n",
       "    'tweet_volume': None},\n",
       "   {'name': 'Özlem',\n",
       "    'url': 'http://twitter.com/search?q=%C3%96zlem',\n",
       "    'promoted_content': None,\n",
       "    'query': '%C3%96zlem',\n",
       "    'tweet_volume': None}],\n",
       "  'as_of': '2023-02-28T14:12:03Z',\n",
       "  'created_at': '2023-02-25T17:57:46Z',\n",
       "  'locations': [{'name': 'Turkey', 'woeid': 23424969}]}]"
      ]
     },
     "execution_count": 7,
     "metadata": {},
     "output_type": "execute_result"
    }
   ],
   "source": [
    "world_trends = api.get_place_trends(id=WORLD_WOE_ID)\n",
    "tr_trends = api.get_place_trends(id=TR_WOEID)\n",
    "es_trends = api.get_place_trends(id=TR_WOEIDS['Eskişehir'])\n",
    "\n",
    "print(\"typeof response: \", type(tr_trends))\n",
    "print(\"length of response: \", len(tr_trends))\n",
    "print(\"typeof trends element: \", type(tr_trends[0]))\n",
    "print(\"keys of response: \", tr_trends[0].keys())\n",
    "\n",
    "tr_trends"
   ]
  },
  {
   "cell_type": "code",
   "execution_count": 8,
   "metadata": {},
   "outputs": [
    {
     "data": {
      "text/plain": [
       "'28-02-2023 17:12:03'"
      ]
     },
     "execution_count": 8,
     "metadata": {},
     "output_type": "execute_result"
    }
   ],
   "source": [
    "req_date = datetime.strptime(tr_trends[0]['as_of'], '%Y-%m-%dT%H:%M:%S%z').astimezone(timezone('Europe/Istanbul')).strftime('%d-%m-%Y %H:%M:%S')\n",
    "req_date"
   ]
  },
  {
   "cell_type": "code",
   "execution_count": 9,
   "metadata": {},
   "outputs": [
    {
     "data": {
      "text/plain": [
       "{'#28Şubat',\n",
       " '#DefolGeberesice',\n",
       " '#DeplasmanımaDokunma',\n",
       " '#EYTBugünBitiyor',\n",
       " '2022 KPSS',\n",
       " 'Aday',\n",
       " 'Aidat',\n",
       " 'Altılı Masa',\n",
       " 'Ateşi',\n",
       " 'Barbunya',\n",
       " 'Başarı',\n",
       " 'Beraberiz Güçlüyüz',\n",
       " \"Bugün Fenerbahçe'ye\",\n",
       " 'Burç',\n",
       " 'Cumhurbaşkanımız Sn',\n",
       " 'Dünkü',\n",
       " 'Galatasaraylı',\n",
       " 'Görevden',\n",
       " 'Hudut',\n",
       " 'Hulusi Akar',\n",
       " \"Kahramanmaraş'ın Elbistan\",\n",
       " 'Karagümrük',\n",
       " 'Kağıthane Devlet Hastanesi',\n",
       " 'Korkunun',\n",
       " 'Kulüpler Birliği',\n",
       " 'Kızılay Başkanı',\n",
       " 'Mansur Yavaş',\n",
       " 'Maça',\n",
       " 'Mekanın',\n",
       " 'Muhsin Yazıcıoğlu',\n",
       " 'Piercing',\n",
       " 'Sabih Kanadoğlu',\n",
       " 'Talisca',\n",
       " 'TikTok',\n",
       " 'Tuğba Ekinci',\n",
       " \"TİP'e\",\n",
       " 'Unutmadık',\n",
       " 'Uğur',\n",
       " 'Vural Savaş',\n",
       " 'Yakışır',\n",
       " 'Yukarı',\n",
       " 'Yusuf Kerim',\n",
       " 'Zalimler',\n",
       " 'Zorro',\n",
       " 'jungkook',\n",
       " 'Çocuklara',\n",
       " 'Üyelik'}"
      ]
     },
     "execution_count": 9,
     "metadata": {},
     "output_type": "execute_result"
    }
   ],
   "source": [
    "tr_hashtags = set([trend['name'] for trend in tr_trends[0]['trends']])\n",
    "tr_hashtags\n",
    "\n",
    "world_hastags = set([wtrend['name'] for wtrend in world_trends[0]['trends']])\n",
    "world_hastags\n",
    "\n",
    "es_hashtags = set([etrend['name'] for etrend in es_trends[0]['trends']])\n",
    "es_hashtags"
   ]
  },
  {
   "cell_type": "code",
   "execution_count": 10,
   "metadata": {},
   "outputs": [
    {
     "name": "stdout",
     "output_type": "stream",
     "text": [
      "--------------- WORLD ---------------\n",
      "グリザイア,RIEHATAさん,がっこうぐらし,Miquella,飯塚さん,25% in FCT,ヨルムンガンド,Andalucía,Mansur Yavaş,所属事務所,バザール,バナナサンド,#ApoxDiorAW2023,キングくん,刹那の果実,ASTRO,内川さん,セイコーマート,禁書目録,Magic∞world,やきとり弁当,平賀源内,ALTIMA,楽園の翼,X-encounter,Rocky,ネイキッド・ピーク,プリンスくん,#ShowmeloveTheseriesEP1,マリちゃん,#今月描いた絵を晒そう,メモリーズ・ラスト,DIOR WITH NATTAWIN,パイロット・フィルム,アニサマ,東京レイヴンズ,#JISOOxDiorAW23,Juice,JISOO THE FACE OF DIOR,黒崎さん,エイジーズ,スレイヤー,#夕暮れに手をつなぐ,さんま御殿,黒崎真音さん,飯塚昭三さん,神田沙也加さん,Viva Air,スワロフスキー,ローカルコンビニ \n",
      "\n",
      "--------------- TURKEY ---------------\n",
      "Galatasaraylı,Zalimler,Yusuf Kerim,Hudut,Başarı,Mekanın,TikTok,Tuğba Ekinci,Uğur,Hulusi Akar,Mansur Yavaş,Yukarı,Yakışır,Bugün Fenerbahçe'ye,Unutmadık,Dünkü,Kulüpler Birliği,Korkunun,Görevden,Vural Savaş,Maça,Kağıthane Devlet Hastanesi,Üyelik,Özlem,Sabih Kanadoğlu,Zorro,Barbunya,#EYTBugünBitiyor,Burç,Kızılay Başkanı,Kahramanmaraş'ın Elbistan,Piercing,#DefolGeberesice,Ateşi,TİP'e,#28Şubat,#DeplasmanımaDokunma,2022 KPSS,Çocuklara,Talisca,Altılı Masa,#Universiteicinmeclis,Muhsin Yazıcıoğlu,jungkook,Karagümrük,Aday,Cumhurbaşkanımız Sn,Aidat,Beraberiz Güçlüyüz \n",
      "\n",
      "--------------- ESKISEHIR ---------------\n",
      "Galatasaraylı,Zalimler,Yusuf Kerim,Hudut,Başarı,Mekanın,TikTok,Tuğba Ekinci,Uğur,Hulusi Akar,Mansur Yavaş,Yukarı,Yakışır,Bugün Fenerbahçe'ye,Unutmadık,Dünkü,Kulüpler Birliği,Korkunun,Görevden,Vural Savaş,Maça,Kağıthane Devlet Hastanesi,Üyelik,Sabih Kanadoğlu,Zorro,Barbunya,#EYTBugünBitiyor,Burç,Kızılay Başkanı,Kahramanmaraş'ın Elbistan,Piercing,#DefolGeberesice,Ateşi,TİP'e,#28Şubat,#DeplasmanımaDokunma,2022 KPSS,Çocuklara,Talisca,Altılı Masa,Muhsin Yazıcıoğlu,jungkook,Karagümrük,Aday,Cumhurbaşkanımız Sn,Aidat,Beraberiz Güçlüyüz \n",
      "\n"
     ]
    }
   ],
   "source": [
    "trends_set = {}\n",
    "\n",
    "trends_set['world'] = world_hastags\n",
    "trends_set['turkey'] = tr_hashtags\n",
    "trends_set['eskisehir'] = es_hashtags\n",
    "\n",
    "\n",
    "for loc in ['world', 'turkey', 'eskisehir']:\n",
    "    print('-'*15, loc.upper(), '-'*15)\n",
    "    print(','.join(trends_set[loc]), '\\n')"
   ]
  },
  {
   "cell_type": "code",
   "execution_count": 11,
   "metadata": {},
   "outputs": [
    {
     "name": "stdout",
     "output_type": "stream",
     "text": [
      "********** INTERSECTION OF WORLD AND TURKEY HASTAGS **********\n",
      "Mansur Yavaş \n",
      "\n",
      "********** INTERSECTION OF TURKEY AND ESKISEHIR HASTAGS **********\n",
      "Galatasaraylı,Zalimler,Hudut,Başarı,Mekanın,TikTok,Tuğba Ekinci,Uğur,Hulusi Akar,Mansur Yavaş,Yukarı,Yakışır,Bugün Fenerbahçe'ye,Unutmadık,Dünkü,Kulüpler Birliği,Korkunun,Görevden,Vural Savaş,Maça,Kağıthane Devlet Hastanesi,Üyelik,Beraberiz Güçlüyüz,Sabih Kanadoğlu,Zorro,Barbunya,#EYTBugünBitiyor,Burç,Kızılay Başkanı,Kahramanmaraş'ın Elbistan,Piercing,#DefolGeberesice,Ateşi,TİP'e,#28Şubat,#DeplasmanımaDokunma,2022 KPSS,Çocuklara,Talisca,Altılı Masa,Muhsin Yazıcıoğlu,jungkook,Karagümrük,Aday,Cumhurbaşkanımız Sn,Aidat,Yusuf Kerim\n"
     ]
    }
   ],
   "source": [
    "print(\"*\"*10, 'Intersection of World and Turkey Hastags'.upper(), \"*\"*10)\n",
    "print(','.join(trends_set['world'].intersection(trends_set['turkey'])), '\\n')\n",
    "\n",
    "print(\"*\"*10, 'Intersection of Turkey and Eskisehir Hastags'.upper(), \"*\"*10)\n",
    "print(','.join(trends_set['turkey'].intersection(trends_set['eskisehir'])))"
   ]
  },
  {
   "cell_type": "code",
   "execution_count": 4,
   "metadata": {},
   "outputs": [
    {
     "name": "stdout",
     "output_type": "stream",
     "text": [
      "Type:  <class 'tweepy.models.SearchResults'>\n",
      "Total Tweets fetched: 100\n",
      "First Tweet JSON Feature that fetched: {'created_at': 'Wed Mar 01 11:51:58 +0000 2023', 'id': 1630898669741285378, 'id_str': '1630898669741285378', 'text': 'Kayseri de hiçbir zaman büyük deprem olmayacak. Bilimsel aciklama degil bu sadece 6.his \\n.d\\n#incesu', 'truncated': False, 'entities': {'hashtags': [{'text': 'incesu', 'indices': [92, 99]}], 'symbols': [], 'user_mentions': [], 'urls': []}, 'metadata': {'result_type': 'recent', 'iso_language_code': 'tr'}, 'source': '<a href=\"http://twitter.com/download/android\" rel=\"nofollow\">Twitter for Android</a>', 'in_reply_to_status_id': None, 'in_reply_to_status_id_str': None, 'in_reply_to_user_id': None, 'in_reply_to_user_id_str': None, 'in_reply_to_screen_name': None, 'user': {'id': 1622687433413259269, 'id_str': '1622687433413259269', 'name': 'zehra', 'screen_name': '1zehrachn', 'location': 'Kayseri ', 'description': 'Merhamet', 'url': None, 'entities': {'description': {'urls': []}}, 'protected': False, 'followers_count': 7, 'friends_count': 7, 'listed_count': 0, 'created_at': 'Mon Feb 06 20:03:39 +0000 2023', 'favourites_count': 101, 'utc_offset': None, 'time_zone': None, 'geo_enabled': False, 'verified': False, 'statuses_count': 32, 'lang': None, 'contributors_enabled': False, 'is_translator': False, 'is_translation_enabled': False, 'profile_background_color': 'F5F8FA', 'profile_background_image_url': None, 'profile_background_image_url_https': None, 'profile_background_tile': False, 'profile_image_url': 'http://pbs.twimg.com/profile_images/1624777406287433729/DLyfj8qn_normal.jpg', 'profile_image_url_https': 'https://pbs.twimg.com/profile_images/1624777406287433729/DLyfj8qn_normal.jpg', 'profile_banner_url': 'https://pbs.twimg.com/profile_banners/1622687433413259269/1675982217', 'profile_link_color': '1DA1F2', 'profile_sidebar_border_color': 'C0DEED', 'profile_sidebar_fill_color': 'DDEEF6', 'profile_text_color': '333333', 'profile_use_background_image': True, 'has_extended_profile': True, 'default_profile': True, 'default_profile_image': False, 'following': False, 'follow_request_sent': False, 'notifications': False, 'translator_type': 'none', 'withheld_in_countries': []}, 'geo': None, 'coordinates': None, 'place': None, 'contributors': None, 'is_quote_status': False, 'retweet_count': 0, 'favorite_count': 0, 'favorited': False, 'retweeted': False, 'lang': 'tr'}\n",
      "First Tweet's id:  1630898669741285378\n",
      "First Tweet api feature:  <tweepy.api.API object at 0x10518df10>\n"
     ]
    }
   ],
   "source": [
    "search_query = \"#incesu\"\n",
    "\n",
    "tweets = api.search_tweets(q=search_query, lang=\"tr\", count=100)\n",
    "\n",
    "print(\"Type: \", type(tweets)) \n",
    "print(\"Total Tweets fetched:\", len(tweets))\n",
    "print(\"First Tweet JSON Feature that fetched:\", tweets[0]._json)\n",
    "print(\"First Tweet's id: \", tweets[0]._json['id'])\n",
    "print(\"First Tweet api feature: \", tweets[0]._api)\n"
   ]
  },
  {
   "cell_type": "code",
   "execution_count": 5,
   "metadata": {},
   "outputs": [
    {
     "name": "stdout",
     "output_type": "stream",
     "text": [
      "length tweets_list:  100\n",
      "length filtered_tweets:  100\n"
     ]
    }
   ],
   "source": [
    "tweets_list = []\n",
    "filtered_tweets = []\n",
    "all_text = []\n",
    "for tweet in tweets:\n",
    "    tweets_list.append(tweet._json)\n",
    "    if not tweet._json['text'] in filtered_tweets:\n",
    "        filtered_tweets.append(tweet._json) # clean duplicate results\n",
    "        all_text.append(tweet._json['text'])\n",
    "\n",
    "print(\"length tweets_list: \", len(tweets_list))\n",
    "print(\"length filtered_tweets: \", len(filtered_tweets))\n"
   ]
  },
  {
   "cell_type": "code",
   "execution_count": 6,
   "metadata": {},
   "outputs": [
    {
     "name": "stdout",
     "output_type": "stream",
     "text": [
      "{\n",
      " \"created_at\": \"Wed Mar 01 11:51:58 +0000 2023\",\n",
      " \"id\": 1630898669741285378,\n",
      " \"id_str\": \"1630898669741285378\",\n",
      " \"text\": \"Kayseri de hi\\u00e7bir zaman b\\u00fcy\\u00fck deprem olmayacak. Bilimsel aciklama degil bu sadece 6.his \\n.d\\n#incesu\",\n",
      " \"truncated\": false,\n",
      " \"entities\": {\n",
      "  \"hashtags\": [\n",
      "   {\n",
      "    \"text\": \"incesu\",\n",
      "    \"indices\": [\n",
      "     92,\n",
      "     99\n",
      "    ]\n",
      "   }\n",
      "  ],\n",
      "  \"symbols\": [],\n",
      "  \"user_mentions\": [],\n",
      "  \"urls\": []\n",
      " },\n",
      " \"metadata\": {\n",
      "  \"result_type\": \"recent\",\n",
      "  \"iso_language_code\": \"tr\"\n",
      " },\n",
      " \"source\": \"<a href=\\\"http://twitter.com/download/android\\\" rel=\\\"nofollow\\\">Twitter for Android</a>\",\n",
      " \"in_reply_to_status_id\": null,\n",
      " \"in_reply_to_status_id_str\": null,\n",
      " \"in_reply_to_user_id\": null,\n",
      " \"in_reply_to_user_id_str\": null,\n",
      " \"in_reply_to_screen_name\": null,\n",
      " \"user\": {\n",
      "  \"id\": 1622687433413259269,\n",
      "  \"id_str\": \"1622687433413259269\",\n",
      "  \"name\": \"zehra\",\n",
      "  \"screen_name\": \"1zehrachn\",\n",
      "  \"location\": \"Kayseri \",\n",
      "  \"description\": \"Merhamet\",\n",
      "  \"url\": null,\n",
      "  \"entities\": {\n",
      "   \"description\": {\n",
      "    \"urls\": []\n",
      "   }\n",
      "  },\n",
      "  \"protected\": false,\n",
      "  \"followers_count\": 7,\n",
      "  \"friends_count\": 7,\n",
      "  \"listed_count\": 0,\n",
      "  \"created_at\": \"Mon Feb 06 20:03:39 +0000 2023\",\n",
      "  \"favourites_count\": 101,\n",
      "  \"utc_offset\": null,\n",
      "  \"time_zone\": null,\n",
      "  \"geo_enabled\": false,\n",
      "  \"verified\": false,\n",
      "  \"statuses_count\": 32,\n",
      "  \"lang\": null,\n",
      "  \"contributors_enabled\": false,\n",
      "  \"is_translator\": false,\n",
      "  \"is_translation_enabled\": false,\n",
      "  \"profile_background_color\": \"F5F8FA\",\n",
      "  \"profile_background_image_url\": null,\n",
      "  \"profile_background_image_url_https\": null,\n",
      "  \"profile_background_tile\": false,\n",
      "  \"profile_image_url\": \"http://pbs.twimg.com/profile_images/1624777406287433729/DLyfj8qn_normal.jpg\",\n",
      "  \"profile_image_url_https\": \"https://pbs.twimg.com/profile_images/1624777406287433729/DLyfj8qn_normal.jpg\",\n",
      "  \"profile_banner_url\": \"https://pbs.twimg.com/profile_banners/1622687433413259269/1675982217\",\n",
      "  \"profile_link_color\": \"1DA1F2\",\n",
      "  \"profile_sidebar_border_color\": \"C0DEED\",\n",
      "  \"profile_sidebar_fill_color\": \"DDEEF6\",\n",
      "  \"profile_text_color\": \"333333\",\n",
      "  \"profile_use_background_image\": true,\n",
      "  \"has_extended_profile\": true,\n",
      "  \"default_profile\": true,\n",
      "  \"default_profile_image\": false,\n",
      "  \"following\": false,\n",
      "  \"follow_request_sent\": false,\n",
      "  \"notifications\": false,\n",
      "  \"translator_type\": \"none\",\n",
      "  \"withheld_in_countries\": []\n",
      " },\n",
      " \"geo\": null,\n",
      " \"coordinates\": null,\n",
      " \"place\": null,\n",
      " \"contributors\": null,\n",
      " \"is_quote_status\": false,\n",
      " \"retweet_count\": 0,\n",
      " \"favorite_count\": 0,\n",
      " \"favorited\": false,\n",
      " \"retweeted\": false,\n",
      " \"lang\": \"tr\"\n",
      "}\n"
     ]
    }
   ],
   "source": [
    "print(json.dumps(filtered_tweets[0], indent=1))"
   ]
  },
  {
   "cell_type": "code",
   "execution_count": 10,
   "metadata": {},
   "outputs": [
    {
     "name": "stdout",
     "output_type": "stream",
     "text": [
      "0\n",
      "False\n"
     ]
    }
   ],
   "source": [
    "print(filtered_tweets[0]['retweet_count'])\n",
    "print(filtered_tweets[0]['retweeted'])"
   ]
  },
  {
   "cell_type": "code",
   "execution_count": 23,
   "metadata": {},
   "outputs": [],
   "source": [
    "hashtags = [hashtag['text'] for tweet in filtered_tweets for hashtag in tweet['entities']['hashtags']]\n",
    "\n",
    "screen_names = [tweet['user']['screen_name'] for tweet in filtered_tweets]\n",
    "\n",
    "locations = [tweet['user']['location'] for tweet in filtered_tweets]\n",
    "\n",
    "tweets_text = [tweet['text'] for tweet in filtered_tweets]\n",
    "\n",
    "words = [word for words in tweets_text for word in words.split()]"
   ]
  },
  {
   "cell_type": "code",
   "execution_count": 25,
   "metadata": {},
   "outputs": [
    {
     "name": "stdout",
     "output_type": "stream",
     "text": [
      "[\n",
      " \"1zehrachn\",\n",
      " \"who_is_sewal\",\n",
      " \"musnilay\",\n",
      " \"musnilay\",\n",
      " \"LastNavi\"\n",
      "]\n",
      "[\n",
      " \"Kayseri de hi\\u00e7bir zaman b\\u00fcy\\u00fck deprem olmayacak. Bilimsel aciklama degil bu sadece 6.his \\n.d\\n#incesu\",\n",
      " \"#Kayseri de ba\\u011f\\u0131 olmayanlar anl\\u0131k #incesu https://t.co/fJ0NpLHX2G\"\n",
      "]\n",
      "[\n",
      " \"incesu\",\n",
      " \"Kayseri\",\n",
      " \"incesu\",\n",
      " \"izmirdeprem\",\n",
      " \"Ad\\u0131mFarah\"\n",
      "]\n",
      "[\n",
      " \"Kayseri \",\n",
      " \"\",\n",
      " \"\\u0130STANBUL\",\n",
      " \"\\u0130STANBUL\",\n",
      " \"\"\n",
      "]\n",
      "[\n",
      " \"Kayseri\",\n",
      " \"de\",\n",
      " \"hi\\u00e7bir\",\n",
      " \"zaman\",\n",
      " \"b\\u00fcy\\u00fck\"\n",
      "]\n"
     ]
    }
   ],
   "source": [
    "print(json.dumps(screen_names[:5], indent=1))\n",
    "print(json.dumps(tweets_text[:2], indent=1))\n",
    "print(json.dumps(hashtags[:5], indent=1))\n",
    "print(json.dumps(locations[:5], indent=1))\n",
    "print(json.dumps(words[:5], indent=1))"
   ]
  },
  {
   "cell_type": "code",
   "execution_count": 26,
   "metadata": {},
   "outputs": [
    {
     "name": "stdout",
     "output_type": "stream",
     "text": [
      "[('RT', 77), ('(', 40), ('/', 40), ('7', 40), (')', 40), ('#incesu', 36), ('‼️', 30), ('Mesele', 30), ('için', 29), (\"Hatay'da\", 22)]\n",
      "\n",
      "[('net1soz', 12), ('who_is_sewal', 2), ('musnilay', 2), ('bernakuyuluk', 2), ('GulsahRosee', 2), ('mrvcnrb8', 2), ('1zehrachn', 1), ('LastNavi', 1), ('___aylin_', 1), ('Navle14', 1)]\n",
      "\n",
      "[('incesu', 36), ('AdımFarah', 4), ('Kayserispor', 4), ('kayseri', 4), ('Yunanistan', 3), ('Kayseri', 2), ('izmirdeprem', 2), ('Greece', 2), ('EnginAkyürek', 2), ('kayseride', 2)]\n",
      "\n"
     ]
    }
   ],
   "source": [
    "from collections import Counter\n",
    "\n",
    "for item in [words, screen_names, hashtags]:\n",
    "    c = Counter(item)\n",
    "    print(c.most_common()[:10])\n",
    "    print()"
   ]
  },
  {
   "cell_type": "code",
   "execution_count": 63,
   "metadata": {},
   "outputs": [],
   "source": [
    "def pretty_print(label, list_of_tuples):\n",
    "    print(\"\\n{:^30} | {:^6}\".format(label, \"Count\"))\n",
    "    print(\"*\"*40)\n",
    "    for k,v in list_of_tuples:\n",
    "        print(\"{:30} | {:>6}\".format(k,v))"
   ]
  },
  {
   "cell_type": "code",
   "execution_count": 64,
   "metadata": {},
   "outputs": [
    {
     "name": "stdout",
     "output_type": "stream",
     "text": [
      "\n",
      "             Word              | Count \n",
      "****************************************\n",
      "RT                             |     77\n",
      "(                              |     40\n",
      "/                              |     40\n",
      "7                              |     40\n",
      ")                              |     40\n",
      "\n",
      "         Screen Name           | Count \n",
      "****************************************\n",
      "net1soz                        |     12\n",
      "who_is_sewal                   |      2\n",
      "musnilay                       |      2\n",
      "bernakuyuluk                   |      2\n",
      "GulsahRosee                    |      2\n",
      "\n",
      "           Hashtags            | Count \n",
      "****************************************\n",
      "incesu                         |     36\n",
      "AdımFarah                      |      4\n",
      "Kayserispor                    |      4\n",
      "kayseri                        |      4\n",
      "Yunanistan                     |      3\n"
     ]
    }
   ],
   "source": [
    "for label, data in (('Word', words), ('Screen Name', screen_names), ('Hashtags', hashtags)):\n",
    "    \n",
    "    c = Counter(data)\n",
    "    pretty_print(label, c.most_common()[:5])"
   ]
  },
  {
   "cell_type": "code",
   "execution_count": 68,
   "metadata": {},
   "outputs": [],
   "source": [
    "retweets = [(tweet['user']['screen_name'], tweet['retweet_count'], tweet['text'].replace('\\n', '\\\\')) \n",
    "            for tweet in filtered_tweets]"
   ]
  },
  {
   "cell_type": "code",
   "execution_count": 86,
   "metadata": {},
   "outputs": [],
   "source": [
    "row_template = \"{:^15} | {:^15} | {:50}\"\n",
    "def prettyprint_tweets(list_of_tuples):\n",
    "    print()\n",
    "    print(row_template.format(\"User Name\", \"Retweet Count\", \"Tweet Text\"))\n",
    "    print(\"*\"*87)\n",
    "    \n",
    "    for name, count, text in list_of_tuples:\n",
    "        print(row_template.format(name, count, text[:50]))\n",
    "        if len(text) > 50:\n",
    "            print(row_template.format(\"\", \"\", text[50:100]))\n",
    "            if len(text) > 100:\n",
    "                print(row_template.format(\"\", \"\", text[100:]))"
   ]
  },
  {
   "cell_type": "code",
   "execution_count": 87,
   "metadata": {},
   "outputs": [
    {
     "name": "stdout",
     "output_type": "stream",
     "text": [
      "\n",
      "   User Name    |  Retweet Count  | Tweet Text                                        \n",
      "***************************************************************************************\n",
      "   1zehrachn    |        0        | Kayseri de hiçbir zaman büyük deprem olmayacak. Bi\n",
      "                |                 | limsel aciklama degil bu sadece 6.his \\.d\\#incesu \n",
      " who_is_sewal   |        0        | #Kayseri de bağı olmayanlar anlık #incesu https://\n",
      "                |                 | t.co/fJ0NpLHX2G                                   \n",
      "   musnilay     |       11        | RT @sinasiminasi: Sevgili Mart her şeye rağmen hoş\n",
      "                |                 | geldin.\\\\#izmirdeprem Naci #AdımFarah #Kayserispor\n",
      "                |                 |  #incesu Kerem Kınık #isiashelaletmiyor…          \n",
      "   musnilay     |        6        | RT @sinasiminasi: Yaşadığımız acı ortak. Geçmiş Ol\n",
      "                |                 | sun #Greece \\\\Hatay'da 4.8 #Kayserispor Gülşen #in\n",
      "                |                 | cesu #AdımFarah Kürt #EnginAkyürek Pier…          \n",
      "   LastNavi     |       33        | RT @dahmeiask: Göğüsünün daraldığını biliyoruz .” \n",
      "                |                 | ( hicr / 7 ) \\Rabb’in için sabret ..” ( Müdessir /\n",
      "                |                 |  7 )\\\\Hatay'da 4.8\\#incesu https://t.co…          \n",
      "   ___aylin_    |       33        | RT @dahmeiask: Göğüsünün daraldığını biliyoruz .” \n",
      "                |                 | ( hicr / 7 ) \\Rabb’in için sabret ..” ( Müdessir /\n",
      "                |                 |  7 )\\\\Hatay'da 4.8\\#incesu https://t.co…          \n",
      "    Navle14     |       180       | RT @_Lila2_: Yusuf Kerim'in Annesi Gülten Sayın:\\\"\n",
      "                |                 | Oğlumun yaşamasını istiyorum.Tedavi sürecinde yanı\n",
      "                |                 | nda olmak,ona destek olmak istiyorum\"…            \n",
      " who_is_sewal   |        0        | #kayseri; babam fln çanta hazırlıyo, hergün zangır\n",
      "                |                 |  zangır sallanıyoruz, annem öncü deprem diyo lütfe\n",
      "                |                 | n biri çıkıp ad… https://t.co/aTOH4OLsRC          \n",
      " blue17073432   |       180       | RT @_Lila2_: Yusuf Kerim'in Annesi Gülten Sayın:\\\"\n",
      "                |                 | Oğlumun yaşamasını istiyorum.Tedavi sürecinde yanı\n",
      "                |                 | nda olmak,ona destek olmak istiyorum\"…            \n",
      "   ersin4154    |       26        | RT @smazehradag: Öyle masum bakıyorsun ki kelimele\n",
      "                |                 | r yetersiz kalıyor anlatmaya. Yaşamak hakkın çocuk\n",
      "                |                 | !\\\\https://t.co/Lm8JMzwVcI \\\\💌 Tüm oper…          \n"
     ]
    }
   ],
   "source": [
    "prettyprint_tweets(retweets[:10])"
   ]
  },
  {
   "cell_type": "code",
   "execution_count": 88,
   "metadata": {},
   "outputs": [
    {
     "name": "stdout",
     "output_type": "stream",
     "text": [
      "\n",
      "   User Name    |  Retweet Count  | Tweet Text                                        \n",
      "***************************************************************************************\n",
      "   zumruttek    |        0        | Sümeyyeyi ailesini yalnız bırakmayın\\Sadakalarınız\n",
      "                |                 | ı bağışlarınızı dualarınızı Sümeyye icin eksik etm\n",
      "                |                 | eyin🤲… https://t.co/0wT2KeRq3r                    \n",
      "   zmnyk1907    |       33        | RT @dahmeiask: Göğüsünün daraldığını biliyoruz .” \n",
      "                |                 | ( hicr / 7 ) \\Rabb’in için sabret ..” ( Müdessir /\n",
      "                |                 |  7 )\\\\Hatay'da 4.8\\#incesu https://t.co…          \n",
      " yusulu074891   |       17        | RT @notkoncom: Alman eşcinsel, Müslüman bir kadını\n",
      "                |                 | n başörtüsünü çıkarmaya zorlayınca, çevredekiler t\n",
      "                |                 | arafından müdahale edildi. \\\\&amp;\\\\#DefolG…      \n",
      " who_is_sewal   |        0        | #kayseri; babam fln çanta hazırlıyo, hergün zangır\n",
      "                |                 |  zangır sallanıyoruz, annem öncü deprem diyo lütfe\n",
      "                |                 | n biri çıkıp ad… https://t.co/aTOH4OLsRC          \n",
      " who_is_sewal   |        0        | #Kayseri de bağı olmayanlar anlık #incesu https://\n",
      "                |                 | t.co/fJ0NpLHX2G                                   \n",
      " ttuncertugrul  |       91        | RT @notkoncom: Şengör: \"Sosyal medyayı okuyorum. G\n",
      "                |                 | österilen cehalet düzeyi karşısında hayretler içer\n",
      "                |                 | isinde kalıyorum. Türkiye hakikaten Afg…          \n",
      "  sevsevv3335   |       17        | RT @notkoncom: Alman eşcinsel, Müslüman bir kadını\n",
      "                |                 | n başörtüsünü çıkarmaya zorlayınca, çevredekiler t\n",
      "                |                 | arafından müdahale edildi. \\\\&amp;\\\\#DefolG…      \n",
      " sedefakturk_   |       214       | RT @ozbekkk06: MESELE DEPREM DEĞİL ‼️\\Mesele Ölenl\n",
      "                |                 | erde değil ‼️\\Mesele sahiplerinin söylediklerini y\n",
      "                |                 | erine getirme meselesidir‼️\\\\#Devletbah…          \n",
      "  powerlionus   |       33        | RT @dahmeiask: Göğüsünün daraldığını biliyoruz .” \n",
      "                |                 | ( hicr / 7 ) \\Rabb’in için sabret ..” ( Müdessir /\n",
      "                |                 |  7 )\\\\Hatay'da 4.8\\#incesu https://t.co…          \n",
      " pinarella1556  |       214       | RT @ozbekkk06: MESELE DEPREM DEĞİL ‼️\\Mesele Ölenl\n",
      "                |                 | erde değil ‼️\\Mesele sahiplerinin söylediklerini y\n",
      "                |                 | erine getirme meselesidir‼️\\\\#Devletbah…          \n"
     ]
    }
   ],
   "source": [
    "prettyprint_tweets(sorted(retweets, reverse=True)[:10])"
   ]
  }
 ],
 "metadata": {
  "kernelspec": {
   "display_name": "Python 3 (ipykernel)",
   "language": "python",
   "name": "python3"
  },
  "language_info": {
   "codemirror_mode": {
    "name": "ipython",
    "version": 3
   },
   "file_extension": ".py",
   "mimetype": "text/x-python",
   "name": "python",
   "nbconvert_exporter": "python",
   "pygments_lexer": "ipython3",
   "version": "3.11.1"
  },
  "vscode": {
   "interpreter": {
    "hash": "aee8b7b246df8f9039afb4144a1f6fd8d2ca17a180786b69acc140d282b71a49"
   }
  }
 },
 "nbformat": 4,
 "nbformat_minor": 2
}
